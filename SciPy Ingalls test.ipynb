{
 "cells": [
  {
   "cell_type": "markdown",
   "metadata": {},
   "source": [
    "At the top is the figure reproduction codes, below is the scratchwork of sorts, can test any trajectory.\n",
    "replicating the bistability model from Ingalls figure 7.11 and basic test of SciPy odeint"
   ]
  },
  {
   "cell_type": "code",
   "execution_count": null,
   "metadata": {},
   "outputs": [],
   "source": [
    "#Run for both figures\n",
    "#testing scipy\n",
    "from scipy.integrate import odeint\n",
    "#imported for plotting\n",
    "import numpy as np\n",
    "import matplotlib.pyplot as plt\n",
    "\n",
    "# variable convention r is [cI], c is [cro], x=[r,c]\n",
    "\n",
    "# expression rates\n",
    "def fr(r,c):\n",
    "    return (a+10*a*k1*((r/2)**2))/(1+k1*((r/2)**2)+k2*k1*((r/2)**3)+k3*(c/2)+k4*k3*((c/2)**2))\n",
    "def fc(r,c):\n",
    "    return (b+b*k3*(c/2))/(1+k1*((r/2)**2)+k2*k1*((r/2)**3)+k3*(c/2)+k4*k3*((c/2)**2))\n",
    "\n",
    "#the model\n",
    "def switch(x,t):\n",
    "    r=x[0]\n",
    "    c=x[1]\n",
    "    return [fr(r,c)-δr*r,fc(r,c)-δc*c]\n",
    "\n"
   ]
  },
  {
   "cell_type": "code",
   "execution_count": 106,
   "metadata": {},
   "outputs": [
    {
     "data": {
      "image/png": "[encoded data removed]",
      "text/plain": [
       "<Figure size 432x288 with 1 Axes>"
      ]
     },
     "metadata": {
      "needs_background": "light"
     },
     "output_type": "display_data"
    }
   ],
   "source": [
    "#reproducing figure 7.11A\n",
    "a=5\n",
    "b=50\n",
    "k1=1\n",
    "k2=.1\n",
    "k3=5\n",
    "k4=.5\n",
    "δr=.02 #lysogenic state; recA not degrading cI\n",
    "δc=.02\n",
    "state=\"A\"\n",
    "\n",
    "t=np.linspace(0, 1000, 100000)\n",
    "\n",
    "initlistA=[[3,3],[5,25],[0,50],[10,250],[25,250],[50,250],[100,250],[150,250],[250,250],[250,150],[250,50]]\n",
    "plotlistA=[]\n",
    "for point0 in initlistA:\n",
    "    plotlistA.append(odeint(switch,point0,t))\n",
    "\n",
    "for i in range(0,len(plotlistA)):\n",
    "    plotarray=plotlistA[i]\n",
    "    plt.scatter(plotarray[:,0],plotarray[:,1],c=\"blue\",marker=\"s\",linewidth=0,s=1)\n",
    "plt.xlabel(\"[cI] (nM)\")\n",
    "plt.ylabel(\"[cro] (nM)\")\n",
    "plt.title(\"Figure A\")\n",
    "plt.ylim([0,250])\n",
    "plt.xlim([0,250])\n",
    "plt.show()"
   ]
  },
  {
   "cell_type": "code",
   "execution_count": 111,
   "metadata": {},
   "outputs": [
    {
     "data": {
      "image/png": "[encoded data removed]",
      "text/plain": [
       "<Figure size 432x288 with 1 Axes>"
      ]
     },
     "metadata": {
      "needs_background": "light"
     },
     "output_type": "display_data"
    }
   ],
   "source": [
    "#reproducing figure 7.11B\n",
    "#variables\n",
    "a=5\n",
    "b=50\n",
    "k1=1\n",
    "k2=.1\n",
    "k3=5\n",
    "k4=.5\n",
    "δr=.2 #lytic state; recA degrading cI\n",
    "δc=.02\n",
    "state=\"B\"\n",
    "\n",
    "#time steps\n",
    "t=np.linspace(0, 1000, 100000)\n",
    "\n",
    "#inital conditions\n",
    "initlistA=[[10,5],[8,8],[250,10],[250,60],[250,100],[250,150],[250,200],[250,250],[150,250],[50,250]]\n",
    "\n",
    "#running the ODEs\n",
    "plotlistA=[]\n",
    "for point0 in initlistA:\n",
    "    plotlistA.append(odeint(switch,point0,t))\n",
    "\n",
    "for i in range(0,len(plotlistA)):\n",
    "    plotarray=plotlistA[i]\n",
    "    plt.scatter(plotarray[:,0],plotarray[:,1],c=\"blue\",marker=\"s\",linewidth=0,s=1)\n",
    "plt.xlabel(\"[cI] (nM)\")\n",
    "plt.ylabel(\"[cro] (nM)\")\n",
    "plt.title(\"Figure B\")\n",
    "plt.ylim([0,250])\n",
    "plt.xlim([0,250])\n",
    "plt.show()"
   ]
  },
  {
   "cell_type": "code",
   "execution_count": null,
   "metadata": {},
   "outputs": [],
   "source": [
    "'''end of figure reproduction'''"
   ]
  },
  {
   "cell_type": "code",
   "execution_count": null,
   "metadata": {},
   "outputs": [],
   "source": [
    "'''scratch work'''"
   ]
  },
  {
   "cell_type": "code",
   "execution_count": 90,
   "metadata": {},
   "outputs": [],
   "source": [
    "# import solver\n",
    "'''https://docs.scipy.org/doc/scipy/reference/generated/scipy.integrate.odeint.html'''\n",
    "from scipy.integrate import odeint"
   ]
  },
  {
   "cell_type": "code",
   "execution_count": 58,
   "metadata": {},
   "outputs": [],
   "source": [
    "# initialize variables. ingalls, figure 7.11A\n",
    "a=5\n",
    "b=50\n",
    "k1=1\n",
    "k2=.1\n",
    "k3=5\n",
    "k4=.5\n",
    "δr=.02\n",
    "δc=.02\n",
    "state=\"A\""
   ]
  },
  {
   "cell_type": "code",
   "execution_count": 45,
   "metadata": {},
   "outputs": [],
   "source": [
    "# initialize variables. ingalls, figure 7.11B\n",
    "a=5\n",
    "b=50\n",
    "k1=1\n",
    "k2=.1\n",
    "k3=5\n",
    "k4=.5\n",
    "δr=.2\n",
    "δc=.02\n",
    "state=\"B\""
   ]
  },
  {
   "cell_type": "code",
   "execution_count": 79,
   "metadata": {},
   "outputs": [],
   "source": [
    "#set initial conditions\n",
    "x0=[10,250]"
   ]
  },
  {
   "cell_type": "code",
   "execution_count": 87,
   "metadata": {},
   "outputs": [],
   "source": [
    "# r=[cI],c=[cro]\n",
    "# expression rates\n",
    "def fr(r,c):\n",
    "    return (a+10*a*k1*((r/2)**2))/(1+k1*((r/2)**2)+k2*k1*((r/2)**3)+k3*(c/2)+k4*k3*((c/2)**2))\n",
    "def fc(r,c):\n",
    "    return (b+b*k3*(c/2))/(1+k1*((r/2)**2)+k2*k1*((r/2)**3)+k3*(c/2)+k4*k3*((c/2)**2))"
   ]
  },
  {
   "cell_type": "code",
   "execution_count": 88,
   "metadata": {},
   "outputs": [],
   "source": [
    "#the model\n",
    "def switch(x,t):\n",
    "    r=x[0]\n",
    "    c=x[1]\n",
    "    return [fr(r,c)-δr*r,fc(r,c)-δc*c]"
   ]
  },
  {
   "cell_type": "code",
   "execution_count": 89,
   "metadata": {},
   "outputs": [],
   "source": [
    "import numpy as np"
   ]
  },
  {
   "cell_type": "code",
   "execution_count": 81,
   "metadata": {},
   "outputs": [],
   "source": [
    "t=np.linspace(0, 1000, 10000000)\n",
    "path=odeint(switch,x0,t)\n",
    "statecheck=state\n",
    "initcheck=x0"
   ]
  },
  {
   "cell_type": "code",
   "execution_count": 24,
   "metadata": {},
   "outputs": [],
   "source": [
    "import matplotlib.pyplot as plt"
   ]
  },
  {
   "cell_type": "code",
   "execution_count": 82,
   "metadata": {},
   "outputs": [
    {
     "data": {
      "image/png": "[encoded data removed]",
      "text/plain": [
       "<Figure size 432x288 with 1 Axes>"
      ]
     },
     "metadata": {
      "needs_background": "light"
     },
     "output_type": "display_data"
    }
   ],
   "source": [
    "plt.scatter(path[:,0],path[:,1],c=\"blue\",marker=\"s\",linewidth=0,s=1)\n",
    "plt.xlabel(\"[cI] (nM)\")\n",
    "plt.ylabel(\"[cro] (nM)\")\n",
    "plt.title(f\"test trajectory {statecheck} {initcheck}\")\n",
    "plt.ylim([0,250])\n",
    "plt.xlim([0,250])\n",
    "plt.show()"
   ]
  },
  {
   "cell_type": "code",
   "execution_count": 96,
   "metadata": {},
   "outputs": [
    {
     "data": {
      "text/plain": [
       "array([[1.00000000e+01, 2.50000000e+02],\n",
       "       [9.99831607e+00, 2.49957883e+02],\n",
       "       [9.99663247e+00, 2.49915777e+02],\n",
       "       ...,\n",
       "       [3.99971279e-02, 9.82153988e+01],\n",
       "       [3.99971279e-02, 9.82153988e+01],\n",
       "       [3.99971279e-02, 9.82153988e+01]])"
      ]
     },
     "execution_count": 96,
     "metadata": {},
     "output_type": "execute_result"
    }
   ],
   "source": [
    "#test box"
   ]
  },
  {
   "cell_type": "code",
   "execution_count": null,
   "metadata": {},
   "outputs": [],
   "source": [
    "#test box"
   ]
  }
 ],
 "metadata": {
  "kernelspec": {
   "display_name": "Python 3",
   "language": "python",
   "name": "python3"
  },
  "language_info": {
   "codemirror_mode": {
    "name": "ipython",
    "version": 3
   },
   "file_extension": ".py",
   "mimetype": "text/x-python",
   "name": "python",
   "nbconvert_exporter": "python",
   "pygments_lexer": "ipython3",
   "version": "3.8.5"
  }
 },
 "nbformat": 4,
 "nbformat_minor": 4
}
